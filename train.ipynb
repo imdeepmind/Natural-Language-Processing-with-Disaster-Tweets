{
 "cells": [
  {
   "cell_type": "code",
   "execution_count": 27,
   "id": "ea877735-78fd-4a0c-b15a-42210c139e9b",
   "metadata": {},
   "outputs": [],
   "source": [
    "import tensorflow as tf\n",
    "import numpy as np\n",
    "\n",
    "from tensorflow.keras.layers import Dense, Embedding\n",
    "from tensorflow.keras.models import Sequential\n",
    "from sklearn.model_selection import train_test_split"
   ]
  },
  {
   "cell_type": "code",
   "execution_count": 40,
   "id": "13c4064d-095d-47ae-9355-a8b7387c4530",
   "metadata": {},
   "outputs": [],
   "source": [
    "VOCAB_SIZE = 10000\n",
    "MAX_WORDS = 80\n",
    "EPOCHS = 50\n",
    "BATCH_SIZE = 16\n",
    "TEST_SIZE = 0.2\n",
    "TRAIN_DATA = \"./data/processed_train.npy\"\n",
    "TEST_DATA = \"./data/processed_test.npy\""
   ]
  },
  {
   "cell_type": "code",
   "execution_count": 30,
   "id": "595340ec-63fe-48d6-aa3d-65f2f1c0c006",
   "metadata": {},
   "outputs": [],
   "source": [
    "data = np.load(TRAIN_DATA)\n",
    "X = data[:, 0:80]\n",
    "y = data[:, 80]"
   ]
  },
  {
   "cell_type": "code",
   "execution_count": 31,
   "id": "2b82fb06-001b-4487-91ae-b511ac0dabe0",
   "metadata": {},
   "outputs": [
    {
     "data": {
      "text/plain": [
       "((6090, 80), (1523, 80), (6090,), (1523,))"
      ]
     },
     "execution_count": 31,
     "metadata": {},
     "output_type": "execute_result"
    }
   ],
   "source": [
    "X_train, X_test, y_train, y_test = train_test_split(X, y, test_size=TEST_SIZE, random_state=1969)\n",
    "X_train.shape, X_test.shape, y_train.shape, y_test.shape"
   ]
  },
  {
   "cell_type": "code",
   "execution_count": 36,
   "id": "b520f202-f813-412e-a271-5829a8d64779",
   "metadata": {},
   "outputs": [
    {
     "data": {
      "text/plain": [
       "((6090, 1), (1523, 1))"
      ]
     },
     "execution_count": 36,
     "metadata": {},
     "output_type": "execute_result"
    }
   ],
   "source": [
    "y_train, y_test = y_train.reshape((-1,1)), y_test.reshape((-1,1))\n",
    "y_train.shape, y_test.shape"
   ]
  },
  {
   "cell_type": "code",
   "execution_count": 32,
   "id": "4dab3385-0295-4cda-85be-ec665abc7d44",
   "metadata": {},
   "outputs": [],
   "source": [
    "model = Sequential()\n",
    "\n",
    "model.add(Embedding(VOCAB_SIZE, 128, input_length=MAX_WORDS))\n",
    "model.add(Dense(10, activation=\"relu\"))\n",
    "model.add(Dense(1, activation='sigmoid'))"
   ]
  },
  {
   "cell_type": "code",
   "execution_count": 33,
   "id": "40363b2c-ebcf-4720-9efe-e2ae813da58f",
   "metadata": {},
   "outputs": [
    {
     "name": "stdout",
     "output_type": "stream",
     "text": [
      "Model: \"sequential_5\"\n",
      "_________________________________________________________________\n",
      " Layer (type)                Output Shape              Param #   \n",
      "=================================================================\n",
      " embedding_4 (Embedding)     (None, 80, 128)           1280000   \n",
      "                                                                 \n",
      " dense_3 (Dense)             (None, 80, 10)            1290      \n",
      "                                                                 \n",
      " dense_4 (Dense)             (None, 80, 1)             11        \n",
      "                                                                 \n",
      "=================================================================\n",
      "Total params: 1,281,301\n",
      "Trainable params: 1,281,301\n",
      "Non-trainable params: 0\n",
      "_________________________________________________________________\n"
     ]
    }
   ],
   "source": [
    "model.summary()"
   ]
  },
  {
   "cell_type": "code",
   "execution_count": 45,
   "id": "25e79121-78c2-4be4-a464-91b101ef5a82",
   "metadata": {},
   "outputs": [],
   "source": [
    "model.compile(loss='binary_crossentropy', optimizer='adam', metrics=['accuracy'])"
   ]
  },
  {
   "cell_type": "code",
   "execution_count": 46,
   "id": "538f36d3-03c7-4c69-81fb-446de02f1da6",
   "metadata": {},
   "outputs": [
    {
     "name": "stdout",
     "output_type": "stream",
     "text": [
      "Epoch 1/50\n",
      "96/96 [==============================] - 2s 17ms/step - loss: 0.6810 - accuracy: 0.5825 - val_loss: 0.6811 - val_accuracy: 0.5760\n",
      "Epoch 2/50\n",
      "96/96 [==============================] - 1s 15ms/step - loss: 0.6739 - accuracy: 0.5925 - val_loss: 0.6759 - val_accuracy: 0.5792\n",
      "Epoch 3/50\n",
      "96/96 [==============================] - 2s 16ms/step - loss: 0.6669 - accuracy: 0.5963 - val_loss: 0.6749 - val_accuracy: 0.5798\n",
      "Epoch 4/50\n",
      "96/96 [==============================] - 1s 16ms/step - loss: 0.6630 - accuracy: 0.5972 - val_loss: 0.6755 - val_accuracy: 0.5800\n",
      "Epoch 5/50\n",
      "96/96 [==============================] - 1s 15ms/step - loss: 0.6605 - accuracy: 0.5974 - val_loss: 0.6797 - val_accuracy: 0.5793\n",
      "Epoch 6/50\n",
      "96/96 [==============================] - 1s 15ms/step - loss: 0.6595 - accuracy: 0.5972 - val_loss: 0.6783 - val_accuracy: 0.5792\n",
      "Epoch 7/50\n",
      "96/96 [==============================] - 2s 16ms/step - loss: 0.6589 - accuracy: 0.5972 - val_loss: 0.6794 - val_accuracy: 0.5792\n",
      "Epoch 8/50\n",
      "96/96 [==============================] - 2s 16ms/step - loss: 0.6585 - accuracy: 0.5974 - val_loss: 0.6804 - val_accuracy: 0.5791\n",
      "Epoch 9/50\n",
      "96/96 [==============================] - 1s 15ms/step - loss: 0.6582 - accuracy: 0.5973 - val_loss: 0.6813 - val_accuracy: 0.5791\n",
      "Epoch 10/50\n",
      "96/96 [==============================] - 1s 15ms/step - loss: 0.6578 - accuracy: 0.5974 - val_loss: 0.6834 - val_accuracy: 0.5792\n",
      "Epoch 11/50\n",
      "96/96 [==============================] - 2s 16ms/step - loss: 0.6576 - accuracy: 0.5973 - val_loss: 0.6830 - val_accuracy: 0.5791\n",
      "Epoch 12/50\n",
      "96/96 [==============================] - 2s 16ms/step - loss: 0.6577 - accuracy: 0.5973 - val_loss: 0.6835 - val_accuracy: 0.5790\n",
      "Epoch 13/50\n",
      "96/96 [==============================] - 1s 16ms/step - loss: 0.6574 - accuracy: 0.5974 - val_loss: 0.6840 - val_accuracy: 0.5791\n",
      "Epoch 14/50\n",
      "96/96 [==============================] - 1s 15ms/step - loss: 0.6571 - accuracy: 0.5974 - val_loss: 0.6880 - val_accuracy: 0.5791\n",
      "Epoch 15/50\n",
      "96/96 [==============================] - 2s 16ms/step - loss: 0.6572 - accuracy: 0.5974 - val_loss: 0.6849 - val_accuracy: 0.5791\n",
      "Epoch 16/50\n",
      "96/96 [==============================] - 2s 16ms/step - loss: 0.6571 - accuracy: 0.5974 - val_loss: 0.6857 - val_accuracy: 0.5792\n",
      "Epoch 17/50\n",
      "96/96 [==============================] - 2s 16ms/step - loss: 0.6571 - accuracy: 0.5975 - val_loss: 0.6857 - val_accuracy: 0.5792\n",
      "Epoch 18/50\n",
      "96/96 [==============================] - 2s 16ms/step - loss: 0.6572 - accuracy: 0.5976 - val_loss: 0.6863 - val_accuracy: 0.5792\n",
      "Epoch 19/50\n",
      "96/96 [==============================] - 2s 16ms/step - loss: 0.6569 - accuracy: 0.5975 - val_loss: 0.6863 - val_accuracy: 0.5792\n",
      "Epoch 20/50\n",
      "96/96 [==============================] - 2s 16ms/step - loss: 0.6568 - accuracy: 0.5976 - val_loss: 0.6865 - val_accuracy: 0.5792\n",
      "Epoch 21/50\n",
      "96/96 [==============================] - 2s 16ms/step - loss: 0.6571 - accuracy: 0.5976 - val_loss: 0.6870 - val_accuracy: 0.5781\n",
      "Epoch 22/50\n",
      "96/96 [==============================] - 2s 16ms/step - loss: 0.6567 - accuracy: 0.5976 - val_loss: 0.6872 - val_accuracy: 0.5792\n",
      "Epoch 23/50\n",
      "96/96 [==============================] - 2s 16ms/step - loss: 0.6569 - accuracy: 0.5976 - val_loss: 0.6877 - val_accuracy: 0.5792\n",
      "Epoch 24/50\n",
      "96/96 [==============================] - 2s 16ms/step - loss: 0.6567 - accuracy: 0.5976 - val_loss: 0.6879 - val_accuracy: 0.5793\n",
      "Epoch 25/50\n",
      "96/96 [==============================] - 2s 16ms/step - loss: 0.6568 - accuracy: 0.5976 - val_loss: 0.6876 - val_accuracy: 0.5793\n",
      "Epoch 26/50\n",
      "96/96 [==============================] - 1s 15ms/step - loss: 0.6566 - accuracy: 0.5976 - val_loss: 0.6886 - val_accuracy: 0.5793\n",
      "Epoch 27/50\n",
      "96/96 [==============================] - 2s 16ms/step - loss: 0.6566 - accuracy: 0.5976 - val_loss: 0.6885 - val_accuracy: 0.5793\n",
      "Epoch 28/50\n",
      "96/96 [==============================] - 1s 15ms/step - loss: 0.6568 - accuracy: 0.5970 - val_loss: 0.6886 - val_accuracy: 0.5784\n",
      "Epoch 29/50\n",
      "96/96 [==============================] - 1s 16ms/step - loss: 0.6566 - accuracy: 0.5972 - val_loss: 0.6893 - val_accuracy: 0.5784\n",
      "Epoch 30/50\n",
      "96/96 [==============================] - 1s 16ms/step - loss: 0.6568 - accuracy: 0.5970 - val_loss: 0.6889 - val_accuracy: 0.5784\n",
      "Epoch 31/50\n",
      "96/96 [==============================] - 1s 16ms/step - loss: 0.6569 - accuracy: 0.5972 - val_loss: 0.6893 - val_accuracy: 0.5784\n",
      "Epoch 32/50\n",
      "96/96 [==============================] - 1s 15ms/step - loss: 0.6565 - accuracy: 0.5972 - val_loss: 0.6891 - val_accuracy: 0.5785\n",
      "Epoch 33/50\n",
      "96/96 [==============================] - 1s 16ms/step - loss: 0.6563 - accuracy: 0.5972 - val_loss: 0.6892 - val_accuracy: 0.5808\n",
      "Epoch 34/50\n",
      "96/96 [==============================] - 2s 16ms/step - loss: 0.6567 - accuracy: 0.5973 - val_loss: 0.6900 - val_accuracy: 0.5785\n",
      "Epoch 35/50\n",
      "96/96 [==============================] - 1s 15ms/step - loss: 0.6566 - accuracy: 0.5973 - val_loss: 0.6898 - val_accuracy: 0.5785\n",
      "Epoch 36/50\n",
      "96/96 [==============================] - 2s 16ms/step - loss: 0.6567 - accuracy: 0.5975 - val_loss: 0.6903 - val_accuracy: 0.5775\n",
      "Epoch 37/50\n",
      "96/96 [==============================] - 2s 16ms/step - loss: 0.6565 - accuracy: 0.5977 - val_loss: 0.6905 - val_accuracy: 0.5795\n",
      "Epoch 38/50\n",
      "96/96 [==============================] - 1s 16ms/step - loss: 0.6567 - accuracy: 0.5978 - val_loss: 0.6903 - val_accuracy: 0.5795\n",
      "Epoch 39/50\n",
      "96/96 [==============================] - 2s 16ms/step - loss: 0.6564 - accuracy: 0.5982 - val_loss: 0.6908 - val_accuracy: 0.5795\n",
      "Epoch 40/50\n",
      "96/96 [==============================] - 2s 17ms/step - loss: 0.6567 - accuracy: 0.5978 - val_loss: 0.6905 - val_accuracy: 0.5795\n",
      "Epoch 41/50\n",
      "96/96 [==============================] - 2s 17ms/step - loss: 0.6564 - accuracy: 0.5985 - val_loss: 0.6908 - val_accuracy: 0.5795\n",
      "Epoch 42/50\n",
      "96/96 [==============================] - 2s 16ms/step - loss: 0.6564 - accuracy: 0.5983 - val_loss: 0.6902 - val_accuracy: 0.5810\n",
      "Epoch 43/50\n",
      "96/96 [==============================] - 1s 16ms/step - loss: 0.6564 - accuracy: 0.5981 - val_loss: 0.6908 - val_accuracy: 0.5795\n",
      "Epoch 44/50\n",
      "96/96 [==============================] - 1s 15ms/step - loss: 0.6566 - accuracy: 0.5981 - val_loss: 0.6905 - val_accuracy: 0.5795\n",
      "Epoch 45/50\n",
      "96/96 [==============================] - 2s 16ms/step - loss: 0.6563 - accuracy: 0.5979 - val_loss: 0.6904 - val_accuracy: 0.5810\n",
      "Epoch 46/50\n",
      "96/96 [==============================] - 2s 16ms/step - loss: 0.6564 - accuracy: 0.5986 - val_loss: 0.6912 - val_accuracy: 0.5795\n",
      "Epoch 47/50\n",
      "96/96 [==============================] - 2s 16ms/step - loss: 0.6563 - accuracy: 0.5985 - val_loss: 0.6910 - val_accuracy: 0.5795\n",
      "Epoch 48/50\n",
      "96/96 [==============================] - 1s 15ms/step - loss: 0.6563 - accuracy: 0.5984 - val_loss: 0.6908 - val_accuracy: 0.5809\n",
      "Epoch 49/50\n",
      "96/96 [==============================] - 1s 16ms/step - loss: 0.6564 - accuracy: 0.5987 - val_loss: 0.6920 - val_accuracy: 0.5785\n",
      "Epoch 50/50\n",
      "96/96 [==============================] - 1s 15ms/step - loss: 0.6564 - accuracy: 0.5979 - val_loss: 0.6907 - val_accuracy: 0.5809\n"
     ]
    },
    {
     "data": {
      "text/plain": [
       "<keras.callbacks.History at 0x7f06cc381d00>"
      ]
     },
     "execution_count": 46,
     "metadata": {},
     "output_type": "execute_result"
    }
   ],
   "source": [
    "model.fit(X_train, \n",
    "          y_train,\n",
    "          validation_data=(X_test, y_test),\n",
    "          epochs=EPOCHS,\n",
    "          batch_size=64)"
   ]
  },
  {
   "cell_type": "code",
   "execution_count": 47,
   "id": "72ff1a92-f86d-4f32-9a4f-2473a6657673",
   "metadata": {},
   "outputs": [],
   "source": [
    "model.save('data/model_1644943541261.h5')"
   ]
  },
  {
   "cell_type": "code",
   "execution_count": null,
   "id": "562c5e39-ff9f-4e29-aad4-2a8e503012ab",
   "metadata": {},
   "outputs": [],
   "source": []
  }
 ],
 "metadata": {
  "kernelspec": {
   "display_name": "Python 3 (ipykernel)",
   "language": "python",
   "name": "python3"
  },
  "language_info": {
   "codemirror_mode": {
    "name": "ipython",
    "version": 3
   },
   "file_extension": ".py",
   "mimetype": "text/x-python",
   "name": "python",
   "nbconvert_exporter": "python",
   "pygments_lexer": "ipython3",
   "version": "3.8.10"
  }
 },
 "nbformat": 4,
 "nbformat_minor": 5
}
